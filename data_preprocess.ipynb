{
 "cells": [
  {
   "cell_type": "code",
   "execution_count": 1,
   "metadata": {
    "id": "yZ2devWQpM58"
   },
   "outputs": [],
   "source": [
    "import pandas as pd"
   ]
  },
  {
   "cell_type": "code",
   "execution_count": 2,
   "metadata": {
    "colab": {
     "base_uri": "https://localhost:8080/",
     "height": 476
    },
    "id": "ioH2HKr8pTkg",
    "outputId": "1603ef9b-b46d-4715-9dbd-ba84ebd19e46"
   },
   "outputs": [
    {
     "data": {
      "text/html": [
       "<div>\n",
       "<style scoped>\n",
       "    .dataframe tbody tr th:only-of-type {\n",
       "        vertical-align: middle;\n",
       "    }\n",
       "\n",
       "    .dataframe tbody tr th {\n",
       "        vertical-align: top;\n",
       "    }\n",
       "\n",
       "    .dataframe thead th {\n",
       "        text-align: right;\n",
       "    }\n",
       "</style>\n",
       "<table border=\"1\" class=\"dataframe\">\n",
       "  <thead>\n",
       "    <tr style=\"text-align: right;\">\n",
       "      <th></th>\n",
       "      <th>Year</th>\n",
       "      <th>Leading Cause</th>\n",
       "      <th>Sex</th>\n",
       "      <th>Race Ethnicity</th>\n",
       "      <th>Deaths</th>\n",
       "      <th>Death Rate</th>\n",
       "      <th>Age Adjusted Death Rate</th>\n",
       "    </tr>\n",
       "  </thead>\n",
       "  <tbody>\n",
       "    <tr>\n",
       "      <th>0</th>\n",
       "      <td>2009</td>\n",
       "      <td>Nephritis, Nephrotic Syndrome and Nephrisis (N...</td>\n",
       "      <td>F</td>\n",
       "      <td>Other Race/ Ethnicity</td>\n",
       "      <td>.</td>\n",
       "      <td>.</td>\n",
       "      <td>.</td>\n",
       "    </tr>\n",
       "    <tr>\n",
       "      <th>1</th>\n",
       "      <td>2013</td>\n",
       "      <td>Influenza (Flu) and Pneumonia (J09-J18)</td>\n",
       "      <td>F</td>\n",
       "      <td>Hispanic</td>\n",
       "      <td>204</td>\n",
       "      <td>16.3</td>\n",
       "      <td>18.5</td>\n",
       "    </tr>\n",
       "    <tr>\n",
       "      <th>2</th>\n",
       "      <td>2012</td>\n",
       "      <td>Assault (Homicide: Y87.1, X85-Y09)</td>\n",
       "      <td>M</td>\n",
       "      <td>Other Race/ Ethnicity</td>\n",
       "      <td>.</td>\n",
       "      <td>.</td>\n",
       "      <td>.</td>\n",
       "    </tr>\n",
       "    <tr>\n",
       "      <th>3</th>\n",
       "      <td>2007</td>\n",
       "      <td>Essential Hypertension and Renal Diseases (I10...</td>\n",
       "      <td>F</td>\n",
       "      <td>Not Stated/Unknown</td>\n",
       "      <td>5</td>\n",
       "      <td>.</td>\n",
       "      <td>.</td>\n",
       "    </tr>\n",
       "    <tr>\n",
       "      <th>4</th>\n",
       "      <td>2014</td>\n",
       "      <td>Cerebrovascular Disease (Stroke: I60-I69)</td>\n",
       "      <td>F</td>\n",
       "      <td>White Non-Hispanic</td>\n",
       "      <td>418</td>\n",
       "      <td>29.5</td>\n",
       "      <td>15.6</td>\n",
       "    </tr>\n",
       "    <tr>\n",
       "      <th>5</th>\n",
       "      <td>2009</td>\n",
       "      <td>Essential Hypertension and Renal Diseases (I10...</td>\n",
       "      <td>M</td>\n",
       "      <td>Asian and Pacific Islander</td>\n",
       "      <td>26</td>\n",
       "      <td>5.1</td>\n",
       "      <td>7.2</td>\n",
       "    </tr>\n",
       "    <tr>\n",
       "      <th>6</th>\n",
       "      <td>2013</td>\n",
       "      <td>Influenza (Flu) and Pneumonia (J09-J18)</td>\n",
       "      <td>M</td>\n",
       "      <td>White Non-Hispanic</td>\n",
       "      <td>618</td>\n",
       "      <td>45.9</td>\n",
       "      <td>36.7</td>\n",
       "    </tr>\n",
       "    <tr>\n",
       "      <th>7</th>\n",
       "      <td>2007</td>\n",
       "      <td>Assault (Homicide: Y87.1, X85-Y09)</td>\n",
       "      <td>M</td>\n",
       "      <td>Black Non-Hispanic</td>\n",
       "      <td>267</td>\n",
       "      <td>31.3</td>\n",
       "      <td>31.1</td>\n",
       "    </tr>\n",
       "    <tr>\n",
       "      <th>8</th>\n",
       "      <td>2013</td>\n",
       "      <td>All Other Causes</td>\n",
       "      <td>M</td>\n",
       "      <td>Not Stated/Unknown</td>\n",
       "      <td>139</td>\n",
       "      <td>.</td>\n",
       "      <td>.</td>\n",
       "    </tr>\n",
       "    <tr>\n",
       "      <th>9</th>\n",
       "      <td>2008</td>\n",
       "      <td>Cerebrovascular Disease (Stroke: I60-I69)</td>\n",
       "      <td>M</td>\n",
       "      <td>Hispanic</td>\n",
       "      <td>124</td>\n",
       "      <td>11.2</td>\n",
       "      <td>18.8</td>\n",
       "    </tr>\n",
       "  </tbody>\n",
       "</table>\n",
       "</div>"
      ],
      "text/plain": [
       "   Year                                      Leading Cause Sex  \\\n",
       "0  2009  Nephritis, Nephrotic Syndrome and Nephrisis (N...   F   \n",
       "1  2013            Influenza (Flu) and Pneumonia (J09-J18)   F   \n",
       "2  2012                 Assault (Homicide: Y87.1, X85-Y09)   M   \n",
       "3  2007  Essential Hypertension and Renal Diseases (I10...   F   \n",
       "4  2014          Cerebrovascular Disease (Stroke: I60-I69)   F   \n",
       "5  2009  Essential Hypertension and Renal Diseases (I10...   M   \n",
       "6  2013            Influenza (Flu) and Pneumonia (J09-J18)   M   \n",
       "7  2007                 Assault (Homicide: Y87.1, X85-Y09)   M   \n",
       "8  2013                                   All Other Causes   M   \n",
       "9  2008          Cerebrovascular Disease (Stroke: I60-I69)   M   \n",
       "\n",
       "               Race Ethnicity Deaths Death Rate Age Adjusted Death Rate  \n",
       "0       Other Race/ Ethnicity      .          .                       .  \n",
       "1                    Hispanic    204       16.3                    18.5  \n",
       "2       Other Race/ Ethnicity      .          .                       .  \n",
       "3          Not Stated/Unknown      5          .                       .  \n",
       "4          White Non-Hispanic    418       29.5                    15.6  \n",
       "5  Asian and Pacific Islander     26        5.1                     7.2  \n",
       "6          White Non-Hispanic    618       45.9                    36.7  \n",
       "7          Black Non-Hispanic    267       31.3                    31.1  \n",
       "8          Not Stated/Unknown    139          .                       .  \n",
       "9                    Hispanic    124       11.2                    18.8  "
      ]
     },
     "execution_count": 2,
     "metadata": {},
     "output_type": "execute_result"
    }
   ],
   "source": [
    "df = pd.read_csv('dataset.csv')\n",
    "df.head(10)"
   ]
  },
  {
   "cell_type": "code",
   "execution_count": 3,
   "metadata": {
    "colab": {
     "base_uri": "https://localhost:8080/"
    },
    "id": "69ocw6GipnlW",
    "outputId": "aa1fd05d-84c0-41dc-f59e-9d82c7193e11"
   },
   "outputs": [
    {
     "name": "stdout",
     "output_type": "stream",
     "text": [
      "<class 'pandas.core.frame.DataFrame'>\n",
      "RangeIndex: 1272 entries, 0 to 1271\n",
      "Data columns (total 7 columns):\n",
      " #   Column                   Non-Null Count  Dtype \n",
      "---  ------                   --------------  ----- \n",
      " 0   Year                     1272 non-null   int64 \n",
      " 1   Leading Cause            1272 non-null   object\n",
      " 2   Sex                      1272 non-null   object\n",
      " 3   Race Ethnicity           1272 non-null   object\n",
      " 4   Deaths                   1272 non-null   object\n",
      " 5   Death Rate               1205 non-null   object\n",
      " 6   Age Adjusted Death Rate  1205 non-null   object\n",
      "dtypes: int64(1), object(6)\n",
      "memory usage: 69.7+ KB\n"
     ]
    }
   ],
   "source": [
    "df.info()"
   ]
  },
  {
   "cell_type": "code",
   "execution_count": 4,
   "metadata": {
    "colab": {
     "base_uri": "https://localhost:8080/"
    },
    "id": "mDFLIniSqc29",
    "outputId": "9921c151-3dc6-42c9-abf1-7a12727cddbd"
   },
   "outputs": [
    {
     "data": {
      "text/plain": [
       "array(['Nephritis, Nephrotic Syndrome and Nephrisis (N00-N07, N17-N19, N25-N27)',\n",
       "       'Influenza (Flu) and Pneumonia (J09-J18)',\n",
       "       'Assault (Homicide: Y87.1, X85-Y09)',\n",
       "       'Essential Hypertension and Renal Diseases (I10, I12)',\n",
       "       'Cerebrovascular Disease (Stroke: I60-I69)', 'All Other Causes',\n",
       "       'Mental and Behavioral Disorders due to Accidental Poisoning and Other Psychoactive Substance Use (F11-F16, F18-F19, X40-X42, X44)',\n",
       "       'Accidents Except Drug Posioning (V01-X39, X43, X45-X59, Y85-Y86)',\n",
       "       'Intentional Self-Harm (Suicide: X60-X84, Y87.0)',\n",
       "       'Chronic Lower Respiratory Diseases (J40-J47)',\n",
       "       'Diabetes Mellitus (E10-E14)',\n",
       "       'Diseases of Heart (I00-I09, I11, I13, I20-I51)',\n",
       "       \"Alzheimer's Disease (G30)\",\n",
       "       'Certain Conditions originating in the Perinatal Period (P00-P96)',\n",
       "       'Malignant Neoplasms (Cancer: C00-C97)',\n",
       "       'Viral Hepatitis (B15-B19)',\n",
       "       'Human Immunodeficiency Virus Disease (HIV: B20-B24)',\n",
       "       'Septicemia (A40-A41)',\n",
       "       'Chronic Liver Disease and Cirrhosis (K70, K73)',\n",
       "       'Congenital Malformations, Deformations, and Chromosomal Abnormalities (Q00-Q99)',\n",
       "       'Atherosclerosis (I70)',\n",
       "       'Mental and Behavioral Disorders due to Use of Alcohol (F10)',\n",
       "       'Tuberculosis (A16-A19)', 'Aortic Aneurysm and Dissection (I71)',\n",
       "       'Insitu or Benign / Uncertain Neoplasms (D00-D48)',\n",
       "       \"Parkinson's Disease (G20)\",\n",
       "       'Accidents Except Drug Poisoning (V01-X39, X43, X45-X59, Y85-Y86)',\n",
       "       'Chronic Liver Disease and Cirrhosis (K70, K73-K74)',\n",
       "       'Intentional Self-Harm (Suicide: U03, X60-X84, Y87.0)',\n",
       "       'Assault (Homicide: U01-U02, Y87.1, X85-Y09)',\n",
       "       'Complications of Medical and Surgical Care (Y40-Y84, Y88)',\n",
       "       'Cholelithiasis and Disorders of Gallbladder (K80-K82)',\n",
       "       'Anemias (D50-D64)', 'Peptic Ulcer (K25-K28)'], dtype=object)"
      ]
     },
     "execution_count": 4,
     "metadata": {},
     "output_type": "execute_result"
    }
   ],
   "source": [
    "df['Leading Cause'].unique()"
   ]
  },
  {
   "cell_type": "code",
   "execution_count": 5,
   "metadata": {
    "id": "WrJuV4r4qQ8Z"
   },
   "outputs": [],
   "source": [
    "df = df[df['Leading Cause'] != 'All Other Causes']"
   ]
  },
  {
   "cell_type": "code",
   "execution_count": 6,
   "metadata": {
    "colab": {
     "base_uri": "https://localhost:8080/"
    },
    "id": "nI_2E02tquoy",
    "outputId": "fb23e2d1-9eeb-4d93-c96d-96932ad0ea40"
   },
   "outputs": [
    {
     "name": "stdout",
     "output_type": "stream",
     "text": [
      "<class 'pandas.core.frame.DataFrame'>\n",
      "Int64Index: 1162 entries, 0 to 1270\n",
      "Data columns (total 7 columns):\n",
      " #   Column                   Non-Null Count  Dtype \n",
      "---  ------                   --------------  ----- \n",
      " 0   Year                     1162 non-null   int64 \n",
      " 1   Leading Cause            1162 non-null   object\n",
      " 2   Sex                      1162 non-null   object\n",
      " 3   Race Ethnicity           1162 non-null   object\n",
      " 4   Deaths                   1162 non-null   object\n",
      " 5   Death Rate               1099 non-null   object\n",
      " 6   Age Adjusted Death Rate  1099 non-null   object\n",
      "dtypes: int64(1), object(6)\n",
      "memory usage: 72.6+ KB\n"
     ]
    }
   ],
   "source": [
    "df.info()"
   ]
  },
  {
   "cell_type": "code",
   "execution_count": 7,
   "metadata": {
    "colab": {
     "base_uri": "https://localhost:8080/"
    },
    "id": "Y7h8gl8iqTx9",
    "outputId": "116c09f6-27d9-4e9f-d755-d61f2a4ce3d5"
   },
   "outputs": [
    {
     "data": {
      "text/plain": [
       "array(['F', 'M', 'Male', 'Female'], dtype=object)"
      ]
     },
     "execution_count": 7,
     "metadata": {},
     "output_type": "execute_result"
    }
   ],
   "source": [
    "df['Sex'].unique()"
   ]
  },
  {
   "cell_type": "code",
   "execution_count": 8,
   "metadata": {
    "id": "I2lqs9QAqWQx"
   },
   "outputs": [],
   "source": [
    "df.loc[df['Sex'] == 'M', 'Sex'] = 'Male'\n",
    "df.loc[df['Sex'] == 'F', 'Sex'] = 'Female'\n"
   ]
  },
  {
   "cell_type": "code",
   "execution_count": 9,
   "metadata": {
    "colab": {
     "base_uri": "https://localhost:8080/"
    },
    "id": "dEGccyGgrgSW",
    "outputId": "688ab285-c43a-4bcf-de4b-6f50c30f35ac"
   },
   "outputs": [
    {
     "data": {
      "text/plain": [
       "array(['Other Race/ Ethnicity', 'Hispanic', 'Not Stated/Unknown',\n",
       "       'White Non-Hispanic', 'Asian and Pacific Islander',\n",
       "       'Black Non-Hispanic', 'Non-Hispanic White', 'Non-Hispanic Black'],\n",
       "      dtype=object)"
      ]
     },
     "execution_count": 9,
     "metadata": {},
     "output_type": "execute_result"
    }
   ],
   "source": [
    "df['Race Ethnicity'].unique()"
   ]
  },
  {
   "cell_type": "code",
   "execution_count": 10,
   "metadata": {
    "id": "f3UbTaMxyHkB"
   },
   "outputs": [
    {
     "name": "stdout",
     "output_type": "stream",
     "text": [
      "<class 'pandas.core.frame.DataFrame'>\n",
      "Int64Index: 957 entries, 0 to 1258\n",
      "Data columns (total 7 columns):\n",
      " #   Column                   Non-Null Count  Dtype \n",
      "---  ------                   --------------  ----- \n",
      " 0   Year                     957 non-null    int64 \n",
      " 1   Leading Cause            957 non-null    object\n",
      " 2   Sex                      957 non-null    object\n",
      " 3   Race Ethnicity           957 non-null    object\n",
      " 4   Deaths                   957 non-null    object\n",
      " 5   Death Rate               894 non-null    object\n",
      " 6   Age Adjusted Death Rate  894 non-null    object\n",
      "dtypes: int64(1), object(6)\n",
      "memory usage: 59.8+ KB\n"
     ]
    }
   ],
   "source": [
    "df = df[df['Race Ethnicity'] != 'Not Stated/Unknown']\n",
    "df.info()"
   ]
  },
  {
   "cell_type": "code",
   "execution_count": 11,
   "metadata": {
    "id": "C_WsY9Jqx4jk"
   },
   "outputs": [
    {
     "data": {
      "text/html": [
       "<div>\n",
       "<style scoped>\n",
       "    .dataframe tbody tr th:only-of-type {\n",
       "        vertical-align: middle;\n",
       "    }\n",
       "\n",
       "    .dataframe tbody tr th {\n",
       "        vertical-align: top;\n",
       "    }\n",
       "\n",
       "    .dataframe thead th {\n",
       "        text-align: right;\n",
       "    }\n",
       "</style>\n",
       "<table border=\"1\" class=\"dataframe\">\n",
       "  <thead>\n",
       "    <tr style=\"text-align: right;\">\n",
       "      <th></th>\n",
       "      <th>Leading Cause</th>\n",
       "      <th>Sex</th>\n",
       "      <th>Race Ethnicity</th>\n",
       "    </tr>\n",
       "  </thead>\n",
       "  <tbody>\n",
       "    <tr>\n",
       "      <th>0</th>\n",
       "      <td>Nephritis, Nephrotic Syndrome and Nephrisis (N...</td>\n",
       "      <td>Female</td>\n",
       "      <td>Other Race/ Ethnicity</td>\n",
       "    </tr>\n",
       "    <tr>\n",
       "      <th>1</th>\n",
       "      <td>Influenza (Flu) and Pneumonia (J09-J18)</td>\n",
       "      <td>Female</td>\n",
       "      <td>Hispanic</td>\n",
       "    </tr>\n",
       "    <tr>\n",
       "      <th>2</th>\n",
       "      <td>Assault (Homicide: Y87.1, X85-Y09)</td>\n",
       "      <td>Male</td>\n",
       "      <td>Other Race/ Ethnicity</td>\n",
       "    </tr>\n",
       "    <tr>\n",
       "      <th>4</th>\n",
       "      <td>Cerebrovascular Disease (Stroke: I60-I69)</td>\n",
       "      <td>Female</td>\n",
       "      <td>White Non-Hispanic</td>\n",
       "    </tr>\n",
       "    <tr>\n",
       "      <th>5</th>\n",
       "      <td>Essential Hypertension and Renal Diseases (I10...</td>\n",
       "      <td>Male</td>\n",
       "      <td>Asian and Pacific Islander</td>\n",
       "    </tr>\n",
       "    <tr>\n",
       "      <th>6</th>\n",
       "      <td>Influenza (Flu) and Pneumonia (J09-J18)</td>\n",
       "      <td>Male</td>\n",
       "      <td>White Non-Hispanic</td>\n",
       "    </tr>\n",
       "    <tr>\n",
       "      <th>7</th>\n",
       "      <td>Assault (Homicide: Y87.1, X85-Y09)</td>\n",
       "      <td>Male</td>\n",
       "      <td>Black Non-Hispanic</td>\n",
       "    </tr>\n",
       "    <tr>\n",
       "      <th>9</th>\n",
       "      <td>Cerebrovascular Disease (Stroke: I60-I69)</td>\n",
       "      <td>Male</td>\n",
       "      <td>Hispanic</td>\n",
       "    </tr>\n",
       "    <tr>\n",
       "      <th>10</th>\n",
       "      <td>Essential Hypertension and Renal Diseases (I10...</td>\n",
       "      <td>Female</td>\n",
       "      <td>Black Non-Hispanic</td>\n",
       "    </tr>\n",
       "    <tr>\n",
       "      <th>12</th>\n",
       "      <td>Accidents Except Drug Posioning (V01-X39, X43,...</td>\n",
       "      <td>Male</td>\n",
       "      <td>Asian and Pacific Islander</td>\n",
       "    </tr>\n",
       "  </tbody>\n",
       "</table>\n",
       "</div>"
      ],
      "text/plain": [
       "                                        Leading Cause     Sex  \\\n",
       "0   Nephritis, Nephrotic Syndrome and Nephrisis (N...  Female   \n",
       "1             Influenza (Flu) and Pneumonia (J09-J18)  Female   \n",
       "2                  Assault (Homicide: Y87.1, X85-Y09)    Male   \n",
       "4           Cerebrovascular Disease (Stroke: I60-I69)  Female   \n",
       "5   Essential Hypertension and Renal Diseases (I10...    Male   \n",
       "6             Influenza (Flu) and Pneumonia (J09-J18)    Male   \n",
       "7                  Assault (Homicide: Y87.1, X85-Y09)    Male   \n",
       "9           Cerebrovascular Disease (Stroke: I60-I69)    Male   \n",
       "10  Essential Hypertension and Renal Diseases (I10...  Female   \n",
       "12  Accidents Except Drug Posioning (V01-X39, X43,...    Male   \n",
       "\n",
       "                Race Ethnicity  \n",
       "0        Other Race/ Ethnicity  \n",
       "1                     Hispanic  \n",
       "2        Other Race/ Ethnicity  \n",
       "4           White Non-Hispanic  \n",
       "5   Asian and Pacific Islander  \n",
       "6           White Non-Hispanic  \n",
       "7           Black Non-Hispanic  \n",
       "9                     Hispanic  \n",
       "10          Black Non-Hispanic  \n",
       "12  Asian and Pacific Islander  "
      ]
     },
     "execution_count": 11,
     "metadata": {},
     "output_type": "execute_result"
    }
   ],
   "source": [
    "df = df[['Leading Cause', 'Sex', 'Race Ethnicity']]\n",
    "df.head(10)"
   ]
  },
  {
   "cell_type": "code",
   "execution_count": 12,
   "metadata": {
    "id": "j9SBh1aNWBGY"
   },
   "outputs": [],
   "source": [
    "df.to_csv('new_data.csv', index=False, header=False)"
   ]
  },
  {
   "cell_type": "code",
   "execution_count": 13,
   "metadata": {
    "id": "iL7NKV3fWiY5"
   },
   "outputs": [
    {
     "data": {
      "text/html": [
       "<div>\n",
       "<style scoped>\n",
       "    .dataframe tbody tr th:only-of-type {\n",
       "        vertical-align: middle;\n",
       "    }\n",
       "\n",
       "    .dataframe tbody tr th {\n",
       "        vertical-align: top;\n",
       "    }\n",
       "\n",
       "    .dataframe thead th {\n",
       "        text-align: right;\n",
       "    }\n",
       "</style>\n",
       "<table border=\"1\" class=\"dataframe\">\n",
       "  <thead>\n",
       "    <tr style=\"text-align: right;\">\n",
       "      <th></th>\n",
       "      <th>Nephritis, Nephrotic Syndrome and Nephrisis (N00-N07, N17-N19, N25-N27)</th>\n",
       "      <th>Female</th>\n",
       "      <th>Other Race/ Ethnicity</th>\n",
       "    </tr>\n",
       "  </thead>\n",
       "  <tbody>\n",
       "    <tr>\n",
       "      <th>0</th>\n",
       "      <td>Influenza (Flu) and Pneumonia (J09-J18)</td>\n",
       "      <td>Female</td>\n",
       "      <td>Hispanic</td>\n",
       "    </tr>\n",
       "    <tr>\n",
       "      <th>1</th>\n",
       "      <td>Assault (Homicide: Y87.1, X85-Y09)</td>\n",
       "      <td>Male</td>\n",
       "      <td>Other Race/ Ethnicity</td>\n",
       "    </tr>\n",
       "    <tr>\n",
       "      <th>2</th>\n",
       "      <td>Cerebrovascular Disease (Stroke: I60-I69)</td>\n",
       "      <td>Female</td>\n",
       "      <td>White Non-Hispanic</td>\n",
       "    </tr>\n",
       "    <tr>\n",
       "      <th>3</th>\n",
       "      <td>Essential Hypertension and Renal Diseases (I10...</td>\n",
       "      <td>Male</td>\n",
       "      <td>Asian and Pacific Islander</td>\n",
       "    </tr>\n",
       "    <tr>\n",
       "      <th>4</th>\n",
       "      <td>Influenza (Flu) and Pneumonia (J09-J18)</td>\n",
       "      <td>Male</td>\n",
       "      <td>White Non-Hispanic</td>\n",
       "    </tr>\n",
       "    <tr>\n",
       "      <th>5</th>\n",
       "      <td>Assault (Homicide: Y87.1, X85-Y09)</td>\n",
       "      <td>Male</td>\n",
       "      <td>Black Non-Hispanic</td>\n",
       "    </tr>\n",
       "    <tr>\n",
       "      <th>6</th>\n",
       "      <td>Cerebrovascular Disease (Stroke: I60-I69)</td>\n",
       "      <td>Male</td>\n",
       "      <td>Hispanic</td>\n",
       "    </tr>\n",
       "    <tr>\n",
       "      <th>7</th>\n",
       "      <td>Essential Hypertension and Renal Diseases (I10...</td>\n",
       "      <td>Female</td>\n",
       "      <td>Black Non-Hispanic</td>\n",
       "    </tr>\n",
       "    <tr>\n",
       "      <th>8</th>\n",
       "      <td>Accidents Except Drug Posioning (V01-X39, X43,...</td>\n",
       "      <td>Male</td>\n",
       "      <td>Asian and Pacific Islander</td>\n",
       "    </tr>\n",
       "    <tr>\n",
       "      <th>9</th>\n",
       "      <td>Chronic Lower Respiratory Diseases (J40-J47)</td>\n",
       "      <td>Male</td>\n",
       "      <td>Hispanic</td>\n",
       "    </tr>\n",
       "  </tbody>\n",
       "</table>\n",
       "</div>"
      ],
      "text/plain": [
       "  Nephritis, Nephrotic Syndrome and Nephrisis (N00-N07, N17-N19, N25-N27)  \\\n",
       "0            Influenza (Flu) and Pneumonia (J09-J18)                        \n",
       "1                 Assault (Homicide: Y87.1, X85-Y09)                        \n",
       "2          Cerebrovascular Disease (Stroke: I60-I69)                        \n",
       "3  Essential Hypertension and Renal Diseases (I10...                        \n",
       "4            Influenza (Flu) and Pneumonia (J09-J18)                        \n",
       "5                 Assault (Homicide: Y87.1, X85-Y09)                        \n",
       "6          Cerebrovascular Disease (Stroke: I60-I69)                        \n",
       "7  Essential Hypertension and Renal Diseases (I10...                        \n",
       "8  Accidents Except Drug Posioning (V01-X39, X43,...                        \n",
       "9       Chronic Lower Respiratory Diseases (J40-J47)                        \n",
       "\n",
       "   Female       Other Race/ Ethnicity  \n",
       "0  Female                    Hispanic  \n",
       "1    Male       Other Race/ Ethnicity  \n",
       "2  Female          White Non-Hispanic  \n",
       "3    Male  Asian and Pacific Islander  \n",
       "4    Male          White Non-Hispanic  \n",
       "5    Male          Black Non-Hispanic  \n",
       "6    Male                    Hispanic  \n",
       "7  Female          Black Non-Hispanic  \n",
       "8    Male  Asian and Pacific Islander  \n",
       "9    Male                    Hispanic  "
      ]
     },
     "execution_count": 13,
     "metadata": {},
     "output_type": "execute_result"
    }
   ],
   "source": [
    "df_new = pd.read_csv('new_data.csv')\n",
    "df_new.head(10)"
   ]
  },
  {
   "cell_type": "code",
   "execution_count": null,
   "metadata": {},
   "outputs": [],
   "source": []
  }
 ],
 "metadata": {
  "colab": {
   "name": "data_preprocess.ipynb",
   "provenance": []
  },
  "kernelspec": {
   "display_name": "Python 3 (ipykernel)",
   "language": "python",
   "name": "python3"
  },
  "language_info": {
   "codemirror_mode": {
    "name": "ipython",
    "version": 3
   },
   "file_extension": ".py",
   "mimetype": "text/x-python",
   "name": "python",
   "nbconvert_exporter": "python",
   "pygments_lexer": "ipython3",
   "version": "3.9.7"
  }
 },
 "nbformat": 4,
 "nbformat_minor": 1
}
